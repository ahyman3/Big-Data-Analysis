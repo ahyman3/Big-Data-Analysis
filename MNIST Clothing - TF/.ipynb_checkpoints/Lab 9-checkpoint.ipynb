{
 "cells": [
  {
   "cell_type": "markdown",
   "metadata": {},
   "source": [
    "### Instructions\n",
    "\n",
    "\n",
    "The research question is can we use algorithms and compute to identify clothing items? Specifically, can we determine which algorithm and compute methodology provides us the most efficient approach for classifying simple fashion images?\n",
    "\n",
    "Using the base samples available from Zalando Research:\n",
    "\n",
    "* https://github.com/zalandoresearch/fashion-mnist \n",
    "* Review the data – clean as appropriate\n",
    "* Provide an initial data analysis\n",
    "\n",
    "Implement at least two approaches for classifying the digits – examples below: \n",
    "\n",
    "* Naïve bayes\n",
    "* Neural Networks\n",
    "* Keras\n",
    "* AzureML\n",
    "* IBMDSX\n",
    "* Boostedtrees\n",
    "* Linear classification \n",
    "* Your choice\n",
    "\n",
    "Answer\n",
    "* What is the accuracy of each method?\n",
    "* What are the trade-offs of each approach?\n",
    "* What is the compute performance of each approach?"
   ]
  },
  {
   "cell_type": "code",
   "execution_count": 1,
   "metadata": {},
   "outputs": [
    {
     "name": "stderr",
     "output_type": "stream",
     "text": [
      "/anaconda3/lib/python3.6/site-packages/h5py/__init__.py:36: FutureWarning: Conversion of the second argument of issubdtype from `float` to `np.floating` is deprecated. In future, it will be treated as `np.float64 == np.dtype(float).type`.\n",
      "  from ._conv import register_converters as _register_converters\n"
     ]
    }
   ],
   "source": [
    "import tensorflow as tf\n",
    "import matplotlib.pyplot as plt\n",
    "from sklearn.ensemble import RandomForestClassifier\n",
    "import numpy as np"
   ]
  },
  {
   "cell_type": "code",
   "execution_count": 2,
   "metadata": {},
   "outputs": [
    {
     "name": "stdout",
     "output_type": "stream",
     "text": [
      "WARNING:tensorflow:From <ipython-input-2-dc419c6b03ef>:2: read_data_sets (from tensorflow.contrib.learn.python.learn.datasets.mnist) is deprecated and will be removed in a future version.\n",
      "Instructions for updating:\n",
      "Please use alternatives such as official/mnist/dataset.py from tensorflow/models.\n",
      "WARNING:tensorflow:From /anaconda3/lib/python3.6/site-packages/tensorflow/contrib/learn/python/learn/datasets/mnist.py:260: maybe_download (from tensorflow.contrib.learn.python.learn.datasets.base) is deprecated and will be removed in a future version.\n",
      "Instructions for updating:\n",
      "Please write your own downloading logic.\n",
      "WARNING:tensorflow:From /anaconda3/lib/python3.6/site-packages/tensorflow/contrib/learn/python/learn/datasets/mnist.py:262: extract_images (from tensorflow.contrib.learn.python.learn.datasets.mnist) is deprecated and will be removed in a future version.\n",
      "Instructions for updating:\n",
      "Please use tf.data to implement this functionality.\n",
      "Extracting Fashion_MNIST/train-images-idx3-ubyte.gz\n",
      "WARNING:tensorflow:From /anaconda3/lib/python3.6/site-packages/tensorflow/contrib/learn/python/learn/datasets/mnist.py:267: extract_labels (from tensorflow.contrib.learn.python.learn.datasets.mnist) is deprecated and will be removed in a future version.\n",
      "Instructions for updating:\n",
      "Please use tf.data to implement this functionality.\n",
      "Extracting Fashion_MNIST/train-labels-idx1-ubyte.gz\n",
      "WARNING:tensorflow:From /anaconda3/lib/python3.6/site-packages/tensorflow/contrib/learn/python/learn/datasets/mnist.py:110: dense_to_one_hot (from tensorflow.contrib.learn.python.learn.datasets.mnist) is deprecated and will be removed in a future version.\n",
      "Instructions for updating:\n",
      "Please use tf.one_hot on tensors.\n",
      "Extracting Fashion_MNIST/t10k-images-idx3-ubyte.gz\n",
      "Extracting Fashion_MNIST/t10k-labels-idx1-ubyte.gz\n",
      "WARNING:tensorflow:From /anaconda3/lib/python3.6/site-packages/tensorflow/contrib/learn/python/learn/datasets/mnist.py:290: DataSet.__init__ (from tensorflow.contrib.learn.python.learn.datasets.mnist) is deprecated and will be removed in a future version.\n",
      "Instructions for updating:\n",
      "Please use alternatives such as official/mnist/dataset.py from tensorflow/models.\n"
     ]
    }
   ],
   "source": [
    "from tensorflow.examples.tutorials.mnist import input_data\n",
    "mnist = input_data.read_data_sets(\"Fashion_MNIST/\", one_hot = True)"
   ]
  },
  {
   "cell_type": "code",
   "execution_count": 27,
   "metadata": {},
   "outputs": [
    {
     "name": "stdout",
     "output_type": "stream",
     "text": [
      "Number of training examples: 55000\n",
      "Number of testing examples: 10000\n"
     ]
    }
   ],
   "source": [
    "print(\"Number of training examples: %s\" % mnist.train.num_examples)\n",
    "print(\"Number of testing examples: %s\" % mnist.test.num_examples) "
   ]
  },
  {
   "cell_type": "code",
   "execution_count": 28,
   "metadata": {},
   "outputs": [
    {
     "name": "stdout",
     "output_type": "stream",
     "text": [
      "Train images shape: (55000, 784)\n",
      "Test images shape: (10000, 784)\n",
      "Train labels shape: (55000, 10)\n",
      "Test labels shape: (10000, 10)\n"
     ]
    }
   ],
   "source": [
    "print(\"Train images shape: {}\".format(mnist.train.images.shape))\n",
    "print(\"Test images shape: {}\".format(mnist.test.images.shape))\n",
    "print(\"Train labels shape: {}\".format(mnist.train.labels.shape))\n",
    "print(\"Test labels shape: {}\".format(mnist.test.labels.shape))"
   ]
  },
  {
   "cell_type": "code",
   "execution_count": 29,
   "metadata": {},
   "outputs": [
    {
     "data": {
      "text/plain": [
       "<matplotlib.image.AxesImage at 0x1c2d481f28>"
      ]
     },
     "execution_count": 29,
     "metadata": {},
     "output_type": "execute_result"
    },
    {
     "data": {
      "image/png": "[encoded data removed]",
      "text/plain": [
       "<Figure size 720x360 with 1 Axes>"
      ]
     },
     "metadata": {},
     "output_type": "display_data"
    }
   ],
   "source": [
    "image1 = mnist.train.images[0]\n",
    "image1 = np.reshape(image1, [28,28])\n",
    "plt.imshow(image1, cmap= \"Greys\")"
   ]
  },
  {
   "cell_type": "code",
   "execution_count": 30,
   "metadata": {},
   "outputs": [],
   "source": [
    "sample_images = []\n",
    "indices = []\n",
    "i = 0\n",
    "while len(sample_images) < 10:\n",
    "    label = np.argmax(mnist.train.labels[i])\n",
    "    if label not in sample_images:\n",
    "        sample_images.append(label)\n",
    "        indices.append(i) \n",
    "    i += 1"
   ]
  },
  {
   "cell_type": "code",
   "execution_count": 31,
   "metadata": {},
   "outputs": [
    {
     "data": {
      "image/png": "[encoded data removed]",
      "text/plain": [
       "<Figure size 720x360 with 10 Axes>"
      ]
     },
     "metadata": {},
     "output_type": "display_data"
    }
   ],
   "source": [
    "# VISUALIZE EACH OF THE DIGITS\n",
    "plt.rcParams[\"figure.figsize\"] = (10, 5)\n",
    "fig, ax = plt.subplots(nrows=2, ncols=5, sharex=True, sharey=True,)\n",
    "ax = ax.flatten()\n",
    "for i, ix in enumerate(indices):\n",
    "    img = mnist.train.images[ix,].reshape(28, 28)\n",
    "    ax[i].imshow(img, cmap='Greys', interpolation='nearest')\n",
    "    ax[i].set_title(\"Label: %d\" % sample_images[i])\n",
    "ax[0].set_xticks([])\n",
    "ax[0].set_yticks([])\n",
    "plt.tight_layout()\n",
    "plt.show()"
   ]
  },
  {
   "cell_type": "markdown",
   "metadata": {},
   "source": [
    "# Random Forest"
   ]
  },
  {
   "cell_type": "code",
   "execution_count": 32,
   "metadata": {},
   "outputs": [
    {
     "name": "stdout",
     "output_type": "stream",
     "text": [
      "CPU times: user 3min 23s, sys: 2.8 s, total: 3min 26s\n",
      "Wall time: 18.8 s\n"
     ]
    }
   ],
   "source": [
    "%%time\n",
    "\n",
    "from sklearn.ensemble import RandomForestClassifier\n",
    "from sklearn.model_selection import train_test_split\n",
    "\n",
    "#Train test split\n",
    "X_train, X_test, y_train, y_test = train_test_split(mnist.train.images,\n",
    "        mnist.train.labels, test_size = 0.2, random_state = 1000)\n",
    "\n",
    "model = RandomForestClassifier(n_estimators= 100, n_jobs=-1, max_depth=100, criterion=\"entropy\")\n",
    "model.fit(X_train, y_train)"
   ]
  },
  {
   "cell_type": "code",
   "execution_count": 33,
   "metadata": {},
   "outputs": [
    {
     "name": "stdout",
     "output_type": "stream",
     "text": [
      "Accuracy of random forest model: 0.816818\n",
      "CPU times: user 1.8 s, sys: 97.5 ms, total: 1.89 s\n",
      "Wall time: 568 ms\n"
     ]
    }
   ],
   "source": [
    "%%time\n",
    "\n",
    "from sklearn.metrics import accuracy_score\n",
    "\n",
    "predictions = model.predict(X_test)\n",
    "print(\"Accuracy of random forest model: {:4f}\".format(accuracy_score(y_true= y_test, y_pred=predictions)))\n",
    "\n",
    "wrong_preds = [(i, np.argmax(tests[0]), np.argmax(tests[1])) \n",
    "               for i, tests in enumerate(zip(predictions, y_test)) \n",
    "               if np.argmax(tests[0]) != np.argmax(tests[1])]"
   ]
  },
  {
   "cell_type": "code",
   "execution_count": 34,
   "metadata": {},
   "outputs": [
    {
     "data": {
      "image/png": "[encoded data removed]",
      "text/plain": [
       "<Figure size 720x360 with 10 Axes>"
      ]
     },
     "metadata": {},
     "output_type": "display_data"
    }
   ],
   "source": [
    "from sklearn.metrics import confusion_matrix\n",
    "\n",
    "# visualize wrong predictions\n",
    "plt.rcParams[\"figure.figsize\"] = (10, 5)\n",
    "fig, ax = plt.subplots(nrows=2, ncols=5, sharex=True, sharey=True,)\n",
    "ax = ax.flatten()\n",
    "for i, (ix, pred, actual) in enumerate(wrong_preds[:10]):\n",
    "    img = X_test[ix,].reshape(28, 28)\n",
    "    ax[i].imshow(img, cmap='Greys', interpolation='nearest')\n",
    "    ax[i].set_title(\"Predicted: %d; Actual: %d\" % (pred, actual))\n",
    "ax[0].set_xticks([])\n",
    "ax[0].set_yticks([])\n",
    "plt.tight_layout()\n",
    "plt.show()"
   ]
  },
  {
   "cell_type": "markdown",
   "metadata": {},
   "source": [
    "# Neural Network"
   ]
  },
  {
   "cell_type": "markdown",
   "metadata": {},
   "source": [
    "## Single Layer Model"
   ]
  },
  {
   "cell_type": "code",
   "execution_count": 18,
   "metadata": {},
   "outputs": [
    {
     "name": "stdout",
     "output_type": "stream",
     "text": [
      "step 0 training accuracy 0.10\n",
      "step 1000 training accuracy 0.78\n",
      "step 2000 training accuracy 0.80\n",
      "step 3000 training accuracy 0.78\n",
      "step 4000 training accuracy 0.88\n",
      "step 5000 training accuracy 0.86\n",
      "step 6000 training accuracy 0.88\n",
      "step 7000 training accuracy 0.86\n",
      "step 8000 training accuracy 0.86\n",
      "step 9000 training accuracy 0.84\n",
      "step 10000 training accuracy 0.84\n",
      "step 11000 training accuracy 0.90\n",
      "step 12000 training accuracy 0.88\n",
      "step 13000 training accuracy 0.80\n",
      "step 14000 training accuracy 0.82\n",
      "step 15000 training accuracy 0.82\n",
      "step 16000 training accuracy 0.82\n",
      "step 17000 training accuracy 0.90\n",
      "step 18000 training accuracy 0.82\n",
      "step 19000 training accuracy 0.82\n",
      "CPU times: user 11.4 s, sys: 2.06 s, total: 13.5 s\n",
      "Wall time: 8.89 s\n"
     ]
    }
   ],
   "source": [
    "%%time\n",
    "\n",
    "x = tf.placeholder(tf.float32, [None, 784])\n",
    "W1 = tf.Variable(tf.zeros([784, 10]))\n",
    "b1 = tf.Variable(tf.zeros([10]))\n",
    "y = tf.nn.softmax(tf.matmul(x, W1) + b1)\n",
    "\n",
    "y_ = tf.placeholder(tf.float32, [None, 10])\n",
    "cross_entropy = tf.reduce_mean(-tf.reduce_sum(y_ * tf.log(y), reduction_indices=[1]))\n",
    "train_step = tf.train.GradientDescentOptimizer(0.1).minimize(cross_entropy)\n",
    "correct_prediction = tf.equal(tf.argmax(y, 1), tf.argmax(y_, 1))\n",
    "accuracy = tf.reduce_mean(tf.cast(correct_prediction, tf.float32))\n",
    "\n",
    "sess = tf.InteractiveSession()\n",
    "tf.global_variables_initializer().run()\n",
    "for _ in range(20000):\n",
    "    batch_xs, batch_ys = mnist.train.next_batch(50)\n",
    "    if _ % 1000 == 0:\n",
    "        train_accuracy = accuracy.eval(feed_dict={x:batch_xs, y_:batch_ys})\n",
    "        print(\"step {:d} training accuracy {:.2f}\".format(_, train_accuracy))\n",
    "    sess.run(train_step, feed_dict= {x:batch_xs, y_:batch_ys})"
   ]
  },
  {
   "cell_type": "code",
   "execution_count": 19,
   "metadata": {},
   "outputs": [
    {
     "name": "stdout",
     "output_type": "stream",
     "text": [
      "Single layer NN accuracy 0.833300\n"
     ]
    }
   ],
   "source": [
    "single_layer_accuracy = sess.run(accuracy, feed_dict={x:mnist.test.images, y_:mnist.test.labels})\n",
    "print(\"Single layer NN accuracy {:3f}\".format(single_layer_accuracy))"
   ]
  },
  {
   "cell_type": "code",
   "execution_count": 20,
   "metadata": {},
   "outputs": [
    {
     "data": {
      "image/png": "[encoded data removed]",
      "text/plain": [
       "<Figure size 720x360 with 10 Axes>"
      ]
     },
     "metadata": {},
     "output_type": "display_data"
    }
   ],
   "source": [
    "preds = sess.run(y, feed_dict={x:mnist.test.images})\n",
    "wrong_preds_info = [(i, np.argmax(pred), np.argmax(actual)) for i, (pred, actual) in\n",
    "    enumerate(zip(preds, mnist.test.labels.tolist())) if np.argmax(pred) != np.argmax(actual)]\n",
    "\n",
    "# visualize wrong predictions\n",
    "plt.rcParams[\"figure.figsize\"] = (10, 5)\n",
    "fig, ax = plt.subplots(nrows=2, ncols=5, sharex=True, sharey=True,)\n",
    "ax = ax.flatten()\n",
    "for i, (ix, pred, actual) in enumerate(wrong_preds_info[:10]):\n",
    "    img = mnist.test.images[ix,].reshape(28, 28)\n",
    "    ax[i].imshow(img, cmap='Greys', interpolation='nearest')\n",
    "    ax[i].set_title(\"Predicted: %d; Actual: %d\" % (pred, actual))\n",
    "ax[0].set_xticks([])\n",
    "ax[0].set_yticks([])\n",
    "plt.tight_layout()\n",
    "plt.show()"
   ]
  },
  {
   "cell_type": "code",
   "execution_count": 21,
   "metadata": {},
   "outputs": [],
   "source": [
    "sess.close()"
   ]
  },
  {
   "cell_type": "markdown",
   "metadata": {},
   "source": [
    "## Multilayer NN"
   ]
  },
  {
   "cell_type": "code",
   "execution_count": 22,
   "metadata": {},
   "outputs": [],
   "source": [
    "#Function to return a hidden layer\n",
    "def weight_variable(shape):\n",
    "    #Randomly initializing the layer\n",
    "    initial = tf.truncated_normal(shape=shape, stddev=0.1)\n",
    "    #return the hidden layer\n",
    "    return tf.Variable(initial)\n",
    "\n",
    "#Function to return a bias variable\n",
    "def bias_variable(shape):\n",
    "    #initializing a random node\n",
    "    initial = tf.constant(0.1, shape=shape)\n",
    "    #returning the random node as a variable\n",
    "    return tf.Variable(initial)"
   ]
  },
  {
   "cell_type": "code",
   "execution_count": 23,
   "metadata": {},
   "outputs": [],
   "source": [
    "#Layer 1\n",
    "x = tf.placeholder(tf.float32, [None, 784])\n",
    "W1 = weight_variable([784, 1024])\n",
    "b1 = bias_variable([1024])\n",
    "layer1 = tf.nn.relu(tf.matmul(x, W1) + b1)\n",
    "\n",
    "#Layer 2\n",
    "W2 = weight_variable([1024, 512])\n",
    "b2 = bias_variable([512])\n",
    "layer2 = tf.nn.relu(tf.matmul(layer1, W2) + b2)\n",
    "\n",
    "#Layer 3\n",
    "W3 = weight_variable([512, 128])\n",
    "b3 = bias_variable([128])\n",
    "layer3 = tf.nn.relu(tf.matmul(layer2, W3) + b3)\n",
    "\n",
    "#Layer 4\n",
    "W4 = weight_variable([128, 10])\n",
    "b4 = bias_variable([10])\n",
    "y = tf.nn.softmax(tf.matmul(layer3, W4) + b4)"
   ]
  },
  {
   "cell_type": "code",
   "execution_count": 24,
   "metadata": {},
   "outputs": [
    {
     "name": "stdout",
     "output_type": "stream",
     "text": [
      "step 0 training accuracy 0.14\n",
      "step 1000 training accuracy 0.98\n",
      "step 2000 training accuracy 0.88\n",
      "step 3000 training accuracy 0.96\n",
      "step 4000 training accuracy 0.94\n",
      "step 5000 training accuracy 0.90\n",
      "step 6000 training accuracy 0.88\n",
      "step 7000 training accuracy 0.92\n",
      "step 8000 training accuracy 0.88\n",
      "step 9000 training accuracy 0.94\n",
      "step 10000 training accuracy 0.94\n",
      "step 11000 training accuracy 0.90\n",
      "step 12000 training accuracy 0.94\n",
      "step 13000 training accuracy 0.96\n",
      "step 14000 training accuracy 1.00\n",
      "step 15000 training accuracy 0.98\n",
      "step 16000 training accuracy 0.92\n",
      "step 17000 training accuracy 0.98\n",
      "step 18000 training accuracy 0.94\n",
      "step 19000 training accuracy 0.94\n",
      "CPU times: user 9min 42s, sys: 36.6 s, total: 10min 19s\n",
      "Wall time: 1min 28s\n"
     ]
    }
   ],
   "source": [
    "%%time\n",
    "\n",
    "y_ = tf.placeholder(tf.float32, [None, 10])\n",
    "cross_entropy = tf.reduce_mean(-tf.reduce_sum(y_ * tf.log(y), reduction_indices=[1]))\n",
    "train_step = tf.train.GradientDescentOptimizer(0.05).minimize(cross_entropy)\n",
    "correct_prediction = tf.equal(tf.argmax(y, 1), tf.argmax(y_, 1))\n",
    "accuracy = tf.reduce_mean(tf.cast(correct_prediction, tf.float32))\n",
    "\n",
    "sess = tf.InteractiveSession()\n",
    "tf.global_variables_initializer().run()\n",
    "for _ in range(20000):\n",
    "    batch_xs, batch_ys = mnist.train.next_batch(50)\n",
    "    if _ % 1000 == 0:\n",
    "        train_accuracy = accuracy.eval(feed_dict={x:batch_xs, y_:batch_ys})\n",
    "        print(\"step {:d} training accuracy {:.2f}\".format(_, train_accuracy))\n",
    "    sess.run(train_step, feed_dict= {x:batch_xs, y_:batch_ys})"
   ]
  },
  {
   "cell_type": "code",
   "execution_count": 25,
   "metadata": {},
   "outputs": [
    {
     "name": "stdout",
     "output_type": "stream",
     "text": [
      "Multi layer NN accuracy 0.890700\n"
     ]
    },
    {
     "data": {
      "image/png": "[encoded data removed]",
      "text/plain": [
       "<Figure size 720x360 with 10 Axes>"
      ]
     },
     "metadata": {},
     "output_type": "display_data"
    },
    {
     "name": "stdout",
     "output_type": "stream",
     "text": [
      "CPU times: user 2.62 s, sys: 109 ms, total: 2.73 s\n",
      "Wall time: 553 ms\n"
     ]
    }
   ],
   "source": [
    "%%time\n",
    "\n",
    "multi_layer_accuracy = sess.run(accuracy, feed_dict={x:mnist.test.images, y_:mnist.test.labels})\n",
    "print(\"Multi layer NN accuracy {:3f}\".format(multi_layer_accuracy))\n",
    "\n",
    "preds = sess.run(y, feed_dict={x:mnist.test.images})\n",
    "actuals = mnist.test.labels\n",
    "\n",
    "wrong_preds_info = [(i, np.argmax(pred), np.argmax(actual)) for i, (pred, actual) in\n",
    "    enumerate(zip(preds.tolist(), actuals.tolist())) if np.argmax(pred) != np.argmax(actual)]\n",
    "\n",
    "# visualize wrong predictions\n",
    "plt.rcParams[\"figure.figsize\"] = (10, 5)\n",
    "fig, ax = plt.subplots(nrows=2, ncols=5, sharex=True, sharey=True,)\n",
    "ax = ax.flatten()\n",
    "for i, (ix, pred, actual) in enumerate(wrong_preds_info[:10]):\n",
    "    img = mnist.test.images[ix,].reshape(28, 28)\n",
    "    ax[i].imshow(img, cmap='Greys', interpolation='nearest')\n",
    "    ax[i].set_title(\"Predicted: %d; Actual: %d\" % (pred, actual))\n",
    "ax[0].set_xticks([])\n",
    "ax[0].set_yticks([])\n",
    "plt.tight_layout()\n",
    "plt.show()"
   ]
  },
  {
   "cell_type": "code",
   "execution_count": 26,
   "metadata": {},
   "outputs": [],
   "source": [
    "sess.close()"
   ]
  },
  {
   "cell_type": "markdown",
   "metadata": {},
   "source": [
    "## Convolutional Neural Network"
   ]
  },
  {
   "cell_type": "code",
   "execution_count": 4,
   "metadata": {},
   "outputs": [],
   "source": [
    "def convolutional_layer(x, W):\n",
    "    return tf.nn.conv2d(x, W, strides=[1,1,1,1], padding = \"SAME\")\n",
    "\n",
    "def pooling_layer(x):\n",
    "    return tf.nn.max_pool(x, ksize=[1,2,2,1], strides=[1,2,2,1], padding = \"SAME\")"
   ]
  },
  {
   "cell_type": "code",
   "execution_count": 5,
   "metadata": {},
   "outputs": [],
   "source": [
    "#variables needed x, keep_prob (dropout rate), y_\n",
    "#Conv (relu) -> pool -> conv (relu) -> pool -> fc1 -> dropout -> fc2 -> dropout -> fc3 -> prediction\n",
    "#Outwidth = (W - kw + 2P / S) + 1\n",
    "x = tf.placeholder(tf.float32, [None, 784])\n",
    "x_image = tf.reshape(x, [-1, 28, 28, 1])\n",
    "#5x5x32 kernel size\n",
    "W1 = weight_variable([5, 5, 1, 32])\n",
    "b1 = bias_variable([32])\n",
    "#Output size is 24x24x32\n",
    "Conv1 = tf.nn.relu(convolutional_layer(x_image, W1) + b1)\n",
    "#output size is 14x14x32\n",
    "pool1 = pooling_layer(Conv1)\n",
    "\n",
    "\n",
    "W2 = weight_variable([5,5,32,64])\n",
    "b2 = bias_variable([64])\n",
    "#output size is 8x8x64\n",
    "Conv2 = tf.nn.relu(convolutional_layer(pool1, W2) + b2)\n",
    "#output size is 4x4x64\n",
    "pool2 = pooling_layer(Conv2)\n",
    "\n",
    "#Fully connected layer 1\n",
    "W3 = weight_variable([7*7*64, 1024])\n",
    "b3 = bias_variable([1024])\n",
    "\n",
    "pool2_flatten = tf.reshape(pool2, [-1, 7*7*64])\n",
    "out3 = tf.nn.relu(tf.matmul(pool2_flatten, W3) + b3)\n",
    "#Dropout after fully connected layer\n",
    "keep_prob = tf.placeholder(tf.float32)\n",
    "out3_dropped = tf.nn.dropout(out3, keep_prob)\n",
    "\n",
    "#Fully  Connected layer 2\n",
    "W4 = weight_variable([1024, 512])\n",
    "b4 = bias_variable([512])\n",
    "out4 = tf.nn.relu(tf.matmul(out3_dropped, W4) + b4)\n",
    "out4_dropped = tf.nn.dropout(out4, keep_prob)\n",
    "\n",
    "#Fully connected 3\n",
    "W5 = weight_variable([512, 10])\n",
    "b5 = bias_variable([10])\n",
    "y = tf.nn.softmax(tf.matmul(out4_dropped, W5) + b5)"
   ]
  },
  {
   "cell_type": "code",
   "execution_count": 6,
   "metadata": {},
   "outputs": [
    {
     "name": "stdout",
     "output_type": "stream",
     "text": [
      "step 0 training accuracy 0.12\n",
      "step 100 training accuracy 0.66\n",
      "step 200 training accuracy 0.68\n",
      "step 300 training accuracy 0.74\n",
      "step 400 training accuracy 0.64\n",
      "step 500 training accuracy 0.86\n",
      "step 600 training accuracy 0.74\n",
      "step 700 training accuracy 0.76\n",
      "step 800 training accuracy 0.84\n",
      "step 900 training accuracy 0.82\n",
      "step 1000 training accuracy 0.70\n",
      "step 1100 training accuracy 0.80\n",
      "step 1200 training accuracy 0.82\n",
      "step 1300 training accuracy 0.80\n",
      "step 1400 training accuracy 0.86\n",
      "step 1500 training accuracy 0.74\n",
      "step 1600 training accuracy 0.94\n",
      "step 1700 training accuracy 0.82\n",
      "step 1800 training accuracy 0.84\n",
      "step 1900 training accuracy 0.86\n",
      "step 2000 training accuracy 0.84\n",
      "step 2100 training accuracy 0.86\n",
      "step 2200 training accuracy 0.76\n",
      "step 2300 training accuracy 0.86\n",
      "step 2400 training accuracy 0.84\n",
      "step 2500 training accuracy 0.84\n",
      "step 2600 training accuracy 0.80\n",
      "step 2700 training accuracy 0.82\n",
      "step 2800 training accuracy 0.88\n",
      "step 2900 training accuracy 0.86\n",
      "step 3000 training accuracy 0.88\n",
      "step 3100 training accuracy 0.70\n",
      "step 3200 training accuracy 0.88\n",
      "step 3300 training accuracy 0.88\n",
      "step 3400 training accuracy 0.82\n",
      "step 3500 training accuracy 0.90\n",
      "step 3600 training accuracy 0.86\n",
      "step 3700 training accuracy 0.80\n",
      "step 3800 training accuracy 0.80\n",
      "step 3900 training accuracy 0.88\n",
      "step 4000 training accuracy 0.84\n",
      "step 4100 training accuracy 0.84\n",
      "step 4200 training accuracy 0.90\n",
      "step 4300 training accuracy 0.90\n",
      "step 4400 training accuracy 0.88\n",
      "step 4500 training accuracy 0.82\n",
      "step 4600 training accuracy 0.86\n",
      "step 4700 training accuracy 0.96\n",
      "step 4800 training accuracy 0.86\n",
      "step 4900 training accuracy 0.86\n",
      "step 5000 training accuracy 0.90\n",
      "step 5100 training accuracy 0.82\n",
      "step 5200 training accuracy 0.86\n",
      "step 5300 training accuracy 0.90\n",
      "step 5400 training accuracy 0.82\n",
      "step 5500 training accuracy 0.92\n",
      "step 5600 training accuracy 0.84\n",
      "step 5700 training accuracy 0.94\n",
      "step 5800 training accuracy 0.92\n",
      "step 5900 training accuracy 0.88\n",
      "step 6000 training accuracy 0.82\n",
      "step 6100 training accuracy 0.84\n",
      "step 6200 training accuracy 0.88\n",
      "step 6300 training accuracy 0.92\n",
      "step 6400 training accuracy 0.92\n",
      "step 6500 training accuracy 0.84\n",
      "step 6600 training accuracy 0.86\n",
      "step 6700 training accuracy 0.84\n",
      "step 6800 training accuracy 0.86\n",
      "step 6900 training accuracy 0.82\n",
      "step 7000 training accuracy 0.96\n",
      "step 7100 training accuracy 0.90\n",
      "step 7200 training accuracy 0.84\n",
      "step 7300 training accuracy 0.90\n",
      "step 7400 training accuracy 0.82\n",
      "step 7500 training accuracy 0.88\n",
      "step 7600 training accuracy 0.90\n",
      "step 7700 training accuracy 0.90\n",
      "step 7800 training accuracy 0.88\n",
      "step 7900 training accuracy 0.88\n",
      "step 8000 training accuracy 0.92\n",
      "step 8100 training accuracy 0.96\n",
      "step 8200 training accuracy 0.90\n",
      "step 8300 training accuracy 0.94\n",
      "step 8400 training accuracy 0.86\n",
      "step 8500 training accuracy 0.92\n",
      "step 8600 training accuracy 0.90\n",
      "step 8700 training accuracy 0.98\n",
      "step 8800 training accuracy 0.90\n",
      "step 8900 training accuracy 0.86\n",
      "step 9000 training accuracy 0.88\n",
      "step 9100 training accuracy 0.90\n",
      "step 9200 training accuracy 0.88\n",
      "step 9300 training accuracy 0.94\n",
      "step 9400 training accuracy 0.94\n",
      "step 9500 training accuracy 0.84\n",
      "step 9600 training accuracy 0.82\n",
      "step 9700 training accuracy 0.86\n",
      "step 9800 training accuracy 0.92\n",
      "step 9900 training accuracy 0.94\n",
      "step 10000 training accuracy 0.90\n",
      "step 10100 training accuracy 0.98\n",
      "step 10200 training accuracy 0.90\n",
      "step 10300 training accuracy 0.82\n",
      "step 10400 training accuracy 0.92\n",
      "step 10500 training accuracy 0.92\n",
      "step 10600 training accuracy 0.80\n",
      "step 10700 training accuracy 0.88\n",
      "step 10800 training accuracy 0.94\n",
      "step 10900 training accuracy 0.90\n",
      "step 11000 training accuracy 0.84\n",
      "step 11100 training accuracy 0.96\n",
      "step 11200 training accuracy 0.88\n",
      "step 11300 training accuracy 0.96\n",
      "step 11400 training accuracy 0.90\n",
      "step 11500 training accuracy 0.84\n",
      "step 11600 training accuracy 0.90\n",
      "step 11700 training accuracy 0.92\n",
      "step 11800 training accuracy 0.92\n",
      "step 11900 training accuracy 0.88\n",
      "step 12000 training accuracy 0.90\n",
      "step 12100 training accuracy 0.94\n",
      "step 12200 training accuracy 0.94\n",
      "step 12300 training accuracy 0.92\n",
      "step 12400 training accuracy 0.94\n",
      "step 12500 training accuracy 0.86\n",
      "step 12600 training accuracy 0.88\n",
      "step 12700 training accuracy 0.88\n",
      "step 12800 training accuracy 0.88\n",
      "step 12900 training accuracy 0.96\n",
      "step 13000 training accuracy 0.92\n",
      "step 13100 training accuracy 0.88\n",
      "step 13200 training accuracy 0.88\n",
      "step 13300 training accuracy 0.96\n",
      "step 13400 training accuracy 0.98\n",
      "step 13500 training accuracy 0.86\n",
      "step 13600 training accuracy 0.98\n",
      "step 13700 training accuracy 0.78\n",
      "step 13800 training accuracy 0.96\n",
      "step 13900 training accuracy 0.90\n",
      "step 14000 training accuracy 0.84\n",
      "step 14100 training accuracy 0.92\n",
      "step 14200 training accuracy 0.96\n",
      "step 14300 training accuracy 0.86\n",
      "step 14400 training accuracy 0.94\n",
      "step 14500 training accuracy 0.92\n",
      "step 14600 training accuracy 0.86\n",
      "step 14700 training accuracy 0.96\n",
      "step 14800 training accuracy 0.94\n",
      "step 14900 training accuracy 0.94\n",
      "step 15000 training accuracy 0.94\n",
      "step 15100 training accuracy 0.78\n",
      "step 15200 training accuracy 0.90\n",
      "step 15300 training accuracy 0.86\n",
      "step 15400 training accuracy 0.94\n",
      "step 15500 training accuracy 0.92\n",
      "step 15600 training accuracy 0.96\n",
      "step 15700 training accuracy 0.94\n",
      "step 15800 training accuracy 0.88\n",
      "step 15900 training accuracy 0.84\n",
      "step 16000 training accuracy 0.84\n",
      "step 16100 training accuracy 0.88\n",
      "step 16200 training accuracy 0.92\n",
      "step 16300 training accuracy 0.86\n",
      "step 16400 training accuracy 0.88\n",
      "step 16500 training accuracy 0.94\n",
      "step 16600 training accuracy 0.84\n",
      "step 16700 training accuracy 0.96\n",
      "step 16800 training accuracy 0.92\n",
      "step 16900 training accuracy 0.94\n",
      "step 17000 training accuracy 0.98\n",
      "step 17100 training accuracy 0.98\n",
      "step 17200 training accuracy 0.94\n",
      "step 17300 training accuracy 0.90\n",
      "step 17400 training accuracy 0.94\n",
      "step 17500 training accuracy 0.82\n",
      "step 17600 training accuracy 0.90\n",
      "step 17700 training accuracy 0.90\n",
      "step 17800 training accuracy 0.96\n",
      "step 17900 training accuracy 0.92\n",
      "step 18000 training accuracy 0.92\n",
      "step 18100 training accuracy 0.84\n",
      "step 18200 training accuracy 0.88\n",
      "step 18300 training accuracy 0.90\n",
      "step 18400 training accuracy 0.94\n",
      "step 18500 training accuracy 0.92\n",
      "step 18600 training accuracy 0.90\n",
      "step 18700 training accuracy 0.96\n",
      "step 18800 training accuracy 0.86\n",
      "step 18900 training accuracy 0.92\n",
      "step 19000 training accuracy 0.90\n",
      "step 19100 training accuracy 0.84\n",
      "step 19200 training accuracy 0.92\n",
      "step 19300 training accuracy 0.86\n",
      "step 19400 training accuracy 0.88\n",
      "step 19500 training accuracy 0.88\n",
      "step 19600 training accuracy 0.90\n",
      "step 19700 training accuracy 0.80\n",
      "step 19800 training accuracy 0.90\n",
      "step 19900 training accuracy 0.88\n",
      "CPU times: user 1h 55min 28s, sys: 24min 7s, total: 2h 19min 36s\n",
      "Wall time: 18min 29s\n"
     ]
    }
   ],
   "source": [
    "%%time\n",
    "\n",
    "y_ = tf.placeholder(tf.float32, [None, 10])\n",
    "cross_entropy = tf.reduce_mean(-tf.reduce_sum(y_ * tf.log(y), reduction_indices=[1]))\n",
    "train_step = tf.train.GradientDescentOptimizer(0.01).minimize(cross_entropy)\n",
    "correct_prediction = tf.equal(tf.argmax(y, 1), tf.argmax(y_, 1))\n",
    "accuracy = tf.reduce_mean(tf.cast(correct_prediction, tf.float32))\n",
    "\n",
    "sess = tf.InteractiveSession()\n",
    "tf.global_variables_initializer().run()\n",
    "for _ in range(20000):\n",
    "    batch_xs, batch_ys = mnist.train.next_batch(50)\n",
    "    if _ % 100 == 0:\n",
    "        train_accuracy = accuracy.eval(feed_dict={x:batch_xs, y_:batch_ys, keep_prob:1.0})\n",
    "        print(\"step {:d} training accuracy {:.2f}\".format(_, train_accuracy))\n",
    "    sess.run(train_step, feed_dict= {x:batch_xs, y_:batch_ys, keep_prob:0.5})"
   ]
  },
  {
   "cell_type": "code",
   "execution_count": 8,
   "metadata": {},
   "outputs": [
    {
     "name": "stdout",
     "output_type": "stream",
     "text": [
      "CNN accuracy 0.893800\n"
     ]
    },
    {
     "data": {
      "image/png": "[encoded data removed]",
      "text/plain": [
       "<Figure size 720x360 with 10 Axes>"
      ]
     },
     "metadata": {},
     "output_type": "display_data"
    },
    {
     "name": "stdout",
     "output_type": "stream",
     "text": [
      "CPU times: user 40.3 s, sys: 9.05 s, total: 49.3 s\n",
      "Wall time: 5.86 s\n"
     ]
    }
   ],
   "source": [
    "%%time\n",
    "\n",
    "cnn_accuracy = sess.run(accuracy, feed_dict={x:mnist.test.images, y_:mnist.test.labels, keep_prob:1.0})\n",
    "print(\"CNN accuracy {:3f}\".format(cnn_accuracy))\n",
    "\n",
    "preds = sess.run(y, feed_dict={x:mnist.test.images, keep_prob:1.0})\n",
    "actuals = mnist.test.labels\n",
    "\n",
    "wrong_preds_info = [(i, np.argmax(pred), np.argmax(actual)) for i, (pred, actual) in\n",
    "    enumerate(zip(preds.tolist(), actuals.tolist())) if np.argmax(pred) != np.argmax(actual)]\n",
    "\n",
    "# visualize wrong predictions\n",
    "plt.rcParams[\"figure.figsize\"] = (10, 5)\n",
    "fig, ax = plt.subplots(nrows=2, ncols=5, sharex=True, sharey=True,)\n",
    "ax = ax.flatten()\n",
    "for i, (ix, pred, actual) in enumerate(wrong_preds_info[:10]):\n",
    "    img = mnist.test.images[ix,].reshape(28, 28)\n",
    "    ax[i].imshow(img, cmap='Greys', interpolation='nearest')\n",
    "    ax[i].set_title(\"Predicted: %d; Actual: %d\" % (pred, actual))\n",
    "ax[0].set_xticks([])\n",
    "ax[0].set_yticks([])\n",
    "plt.tight_layout()\n",
    "plt.show()"
   ]
  },
  {
   "cell_type": "code",
   "execution_count": 9,
   "metadata": {},
   "outputs": [],
   "source": [
    "sess.close()"
   ]
  }
 ],
 "metadata": {
  "kernelspec": {
   "display_name": "Python 3",
   "language": "python",
   "name": "python3"
  },
  "language_info": {
   "codemirror_mode": {
    "name": "ipython",
    "version": 3
   },
   "file_extension": ".py",
   "mimetype": "text/x-python",
   "name": "python",
   "nbconvert_exporter": "python",
   "pygments_lexer": "ipython3",
   "version": "3.6.5"
  }
 },
 "nbformat": 4,
 "nbformat_minor": 2
}
